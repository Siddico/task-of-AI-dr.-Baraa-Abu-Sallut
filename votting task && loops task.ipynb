{
 "cells": [
  {
   "cell_type": "markdown",
   "id": "6435537f",
   "metadata": {},
   "source": [
    "# Mohammed Ahmed Mohammed Siddiq"
   ]
  },
  {
   "cell_type": "markdown",
   "id": "bdcbf910",
   "metadata": {},
   "source": [
    "## Voting Task With OOP"
   ]
  },
  {
   "cell_type": "code",
   "execution_count": 66,
   "id": "979c4727",
   "metadata": {},
   "outputs": [
    {
     "name": "stdout",
     "output_type": "stream",
     "text": [
      "['baraa', 'sama', 'saif']\n",
      "Candidate (ssss) is not in the list\n",
      "Number Of Votes For (baraa) are: 3\n",
      "Number Of Votes For (sama) are: 2\n",
      "No Such Candidates !\n",
      "The Winner Is baraa with 3 votes\n"
     ]
    }
   ],
   "source": [
    "class voting_system():\n",
    "    \n",
    "    def __init__(self):\n",
    "        self.list_of_candidates = list()\n",
    "        self.votes_for_every_one = {}\n",
    "    \n",
    "    def add_candidate(self, name):\n",
    "        self.list_of_candidates.append(name)\n",
    "        self.votes_for_every_one[name]=0\n",
    "    \n",
    "    def show_candidates(self):\n",
    "        print(self.list_of_candidates)\n",
    "        \n",
    "    def vote_for_candidates(self, name):\n",
    "        if(name in self.list_of_candidates):\n",
    "            self.votes_for_every_one[name] += 1\n",
    "            \n",
    "        else:\n",
    "            print(f\"Candidate ({name}) is not in the list\")\n",
    "\n",
    "    def get_result_of_candidate(self, name):\n",
    "        if name in self.list_of_candidates:\n",
    "            print(f'Number Of Votes For ({name}) are: {self.votes_for_every_one[name]}')\n",
    "        else:\n",
    "            print('No Such Candidates !')\n",
    "    \n",
    "    def display_winner(self):\n",
    "        winner = None\n",
    "        max_votes = -1\n",
    "        for candidate, votes in self.votes_for_every_one.items():\n",
    "            if votes > max_votes:\n",
    "                max_votes = votes\n",
    "                winner = candidate\n",
    "                \n",
    "        if winner:\n",
    "            print(f'The Winner Is {winner} with {max_votes} votes')\n",
    "        \n",
    "# voting = voting_system()\n",
    "# voting.add_candidate('siddiq')\n",
    "# voting.add_candidate('ahmed')\n",
    "# voting.add_candidate('khaled')\n",
    "# voting.show_candidates()\n",
    "\n",
    "# voting.vote_for_candidates('siddiq')\n",
    "# voting.vote_for_candidates('siddiq')\n",
    "# voting.vote_for_candidates('ahmed')\n",
    "\n",
    "# voting.vote_for_candidates('ssss')\n",
    "\n",
    "# voting.get_result_of_candidate('siddiq')\n",
    "# voting.get_result_of_candidate('ahmed')\n",
    "# voting.get_result_of_candidate('ssss')\n",
    "\n",
    "# voting.display_winner()\n",
    "voting = voting_system()\n",
    "voting.add_candidate('baraa')\n",
    "voting.add_candidate('sama')\n",
    "voting.add_candidate('saif')\n",
    "voting.show_candidates()\n",
    "\n",
    "voting.vote_for_candidates('baraa')\n",
    "voting.vote_for_candidates('baraa')\n",
    "voting.vote_for_candidates('baraa')\n",
    "voting.vote_for_candidates('sama')\n",
    "voting.vote_for_candidates('sama')\n",
    "\n",
    "voting.vote_for_candidates('ssss')\n",
    "\n",
    "voting.get_result_of_candidate('baraa')\n",
    "voting.get_result_of_candidate('sama')\n",
    "voting.get_result_of_candidate('ssss')\n",
    "\n",
    "voting.display_winner()"
   ]
  },
  {
   "cell_type": "code",
   "execution_count": 67,
   "id": "cb83e5c2",
   "metadata": {},
   "outputs": [
    {
     "data": {
      "text/plain": [
       "'C:\\\\Users\\\\ms\\\\رواد مصر الرقمية'"
      ]
     },
     "execution_count": 67,
     "metadata": {},
     "output_type": "execute_result"
    }
   ],
   "source": [
    "pwd"
   ]
  },
  {
   "cell_type": "markdown",
   "id": "b3b72e33",
   "metadata": {},
   "source": [
    "# Loop Task"
   ]
  },
  {
   "cell_type": "code",
   "execution_count": 59,
   "id": "aec1a2e4",
   "metadata": {},
   "outputs": [],
   "source": [
    "from countries import countries"
   ]
  },
  {
   "cell_type": "code",
   "execution_count": 57,
   "id": "40533dd3",
   "metadata": {},
   "outputs": [],
   "source": [
    "from countries_details_dat import countries_data"
   ]
  },
  {
   "cell_type": "markdown",
   "id": "fa0775c8",
   "metadata": {},
   "source": [
    "## all countries that containing the word land in countries.py"
   ]
  },
  {
   "cell_type": "code",
   "execution_count": 60,
   "id": "c61a20f6",
   "metadata": {},
   "outputs": [
    {
     "name": "stdout",
     "output_type": "stream",
     "text": [
      "Finland\n",
      "\n",
      "Iceland\n",
      "\n",
      "Ireland\n",
      "\n",
      "Marshall Islands\n",
      "\n",
      "Netherlands\n",
      "\n",
      "New Zealand\n",
      "\n",
      "Poland\n",
      "\n",
      "Solomon Islands\n",
      "\n",
      "Swaziland\n",
      "\n",
      "Switzerland\n",
      "\n",
      "Thailand\n",
      "\n"
     ]
    }
   ],
   "source": [
    "for i in countries:\n",
    "    if 'land' in i:\n",
    "        print(f\"{i}\\n\")"
   ]
  },
  {
   "cell_type": "markdown",
   "id": "54c20b0d",
   "metadata": {},
   "source": [
    "## total number of languages in the countries_details_dat.py"
   ]
  },
  {
   "cell_type": "code",
   "execution_count": 29,
   "id": "fc5ae631",
   "metadata": {},
   "outputs": [
    {
     "name": "stdout",
     "output_type": "stream",
     "text": [
      "112\n"
     ]
    }
   ],
   "source": [
    "languages_set = set()\n",
    "for country in countries_data:\n",
    "    for language in country['languages']:\n",
    "        languages_set.add(language)\n",
    "    \n",
    "print(len(languages_set))"
   ]
  },
  {
   "cell_type": "markdown",
   "id": "f4f29d80",
   "metadata": {},
   "source": [
    "## ten most spoken languages from the data"
   ]
  },
  {
   "cell_type": "code",
   "execution_count": 62,
   "id": "d3d36a20",
   "metadata": {},
   "outputs": [
    {
     "name": "stdout",
     "output_type": "stream",
     "text": [
      "['English', 'French', 'Arabic', 'Spanish', 'Portuguese', 'Russian', 'Dutch', 'German', 'Chinese', 'Serbian']\n"
     ]
    }
   ],
   "source": [
    "language_counts = {}\n",
    "\n",
    "for country in countries_data:\n",
    "    for language in country['languages']:\n",
    "        if language in language_counts:\n",
    "            language_counts[language] += 1\n",
    "        else:\n",
    "            language_counts[language] =1\n",
    "            \n",
    "top_languages = sorted(language_counts.items(), key=lambda item: item[1], reverse = True)\n",
    "\n",
    "most_spoken_languages =  [language for language, language_counts in top_languages[:10]]\n",
    "\n",
    "print(most_spoken_languages)"
   ]
  },
  {
   "cell_type": "markdown",
   "id": "1a66a057",
   "metadata": {},
   "source": [
    "## ten most populated countries in the world"
   ]
  },
  {
   "cell_type": "code",
   "execution_count": 53,
   "id": "26236970",
   "metadata": {},
   "outputs": [
    {
     "name": "stdout",
     "output_type": "stream",
     "text": [
      "['China', 'India', 'United States of America', 'Indonesia', 'Brazil', 'Pakistan', 'Nigeria', 'Bangladesh', 'Russian Federation', 'Japan']\n"
     ]
    }
   ],
   "source": [
    "population_numbers = list()\n",
    "\n",
    "for country in countries_data:\n",
    "    population_numbers.append((country['name'], country['population']))\n",
    "    \n",
    "top_population = sorted(population_numbers, key=lambda item: item[1], reverse=True)\n",
    "\n",
    "most_population_countries =  [country for country, pop in top_population[:10]]\n",
    "\n",
    "print(most_population_countries)"
   ]
  },
  {
   "cell_type": "markdown",
   "id": "a83c4a0f",
   "metadata": {},
   "source": [
    "## print pattern \"bonus\""
   ]
  },
  {
   "cell_type": "code",
   "execution_count": 63,
   "id": "e01b7bf0",
   "metadata": {},
   "outputs": [
    {
     "name": "stdout",
     "output_type": "stream",
     "text": [
      "0 x 0 = 0\n",
      "1 x 1 = 1\n",
      "2 x 2 = 4\n",
      "3 x 3 = 9\n",
      "4 x 4 = 16\n",
      "5 x 5 = 25\n",
      "6 x 6 = 36\n",
      "7 x 7 = 49\n",
      "8 x 8 = 64\n",
      "9 x 9 = 81\n",
      "10 x 10 = 100\n"
     ]
    }
   ],
   "source": [
    "# example of two diminsional array\n",
    "for i in range(0, 11):\n",
    "    for j in range(0, 11):\n",
    "        if i==j:\n",
    "            print(f\"{i} x {j} = {i*j}\")"
   ]
  },
  {
   "cell_type": "code",
   "execution_count": 64,
   "id": "89ca9892",
   "metadata": {},
   "outputs": [
    {
     "name": "stdout",
     "output_type": "stream",
     "text": [
      "Help on built-in function sorted in module builtins:\n",
      "\n",
      "sorted(iterable, /, *, key=None, reverse=False)\n",
      "    Return a new list containing all items from the iterable in ascending order.\n",
      "    \n",
      "    A custom key function can be supplied to customize the sort order, and the\n",
      "    reverse flag can be set to request the result in descending order.\n",
      "\n"
     ]
    }
   ],
   "source": [
    "help(sorted)"
   ]
  }
 ],
 "metadata": {
  "kernelspec": {
   "display_name": "Python 3 (ipykernel)",
   "language": "python",
   "name": "python3"
  },
  "language_info": {
   "codemirror_mode": {
    "name": "ipython",
    "version": 3
   },
   "file_extension": ".py",
   "mimetype": "text/x-python",
   "name": "python",
   "nbconvert_exporter": "python",
   "pygments_lexer": "ipython3",
   "version": "3.11.5"
  }
 },
 "nbformat": 4,
 "nbformat_minor": 5
}
